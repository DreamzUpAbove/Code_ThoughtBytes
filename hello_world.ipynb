{
 "cells": [
  {
   "cell_type": "markdown",
   "id": "9f08a001",
   "metadata": {},
   "source": [
    "# Introduction to Data Types in Python\n",
    "----------------------------------------------\n",
    "\n",
    "This script demonstrates basic Python data types (boolean, integer,\n",
    "float, string, list, set) through simple, relatable examples.\n"
   ]
  },
  {
   "cell_type": "markdown",
   "id": "09235717",
   "metadata": {},
   "source": [
    "## Boolean type"
   ]
  },
  {
   "cell_type": "markdown",
   "id": "a82f80ac",
   "metadata": {},
   "source": [
    "Boolean variables can hold only 'True' or 'False', representing binary states like 'Yes' or 'No', basically 0 or 1."
   ]
  },
  {
   "cell_type": "code",
   "execution_count": 21,
   "id": "22ed2419",
   "metadata": {},
   "outputs": [
    {
     "name": "stdout",
     "output_type": "stream",
     "text": [
      "Employee attendance: True\n"
     ]
    }
   ],
   "source": [
    "# --- Boolean: True or False ---\n",
    "is_present = True\n",
    "is_absent = False\n",
    "print(f\"Employee attendance: {is_present}\")  # True\n"
   ]
  },
  {
   "cell_type": "markdown",
   "id": "dd4400c3",
   "metadata": {},
   "source": [
    "## Whole and Decimal numbers\n",
    " Integers variables can store the whole numbers and Float variable can store the decimal values."
   ]
  },
  {
   "cell_type": "code",
   "execution_count": 22,
   "id": "b1196d0e",
   "metadata": {},
   "outputs": [
    {
     "name": "stdout",
     "output_type": "stream",
     "text": [
      "Weekly payroll: $15500.0\n"
     ]
    }
   ],
   "source": [
    "# Integers - whole numbers\n",
    "products_count = 150\n",
    "employees = 25\n",
    "\n",
    "# Floats - decimal numbers  \n",
    "hourly_wage = 15.50\n",
    "# we get decimal value in output when one of the operands is decimal\n",
    "total_salary = employees * hourly_wage * 40  # 40 hours/week\n",
    "print(f\"Weekly payroll: ${total_salary}\")  # $15500.0 "
   ]
  },
  {
   "cell_type": "markdown",
   "id": "c5699723",
   "metadata": {},
   "source": [
    "# Text information\n",
    " A string is a sequence of characters (letters, numbers, symbols, spaces). <br/>\n",
    " Useful for names, descriptions, instructions, or even entire document.\n"
   ]
  },
  {
   "cell_type": "code",
   "execution_count": 23,
   "id": "df5612aa",
   "metadata": {},
   "outputs": [
    {
     "name": "stdout",
     "output_type": "stream",
     "text": [
      "John Smith works in Manufacturing\n",
      "Instruction: Check machine temperature every 2 hours\n"
     ]
    }
   ],
   "source": [
    "# --- Strings: storing text data ---\n",
    "employee_name = \"John Smith\"\n",
    "department = \"Manufacturing\"\n",
    "instruction = \"Check machine temperature every 2 hours\"\n",
    "print(f\"{employee_name} works in {department}\")\n",
    "print(\"Instruction:\", instruction)"
   ]
  },
  {
   "cell_type": "markdown",
   "id": "c7a8d710",
   "metadata": {},
   "source": [
    "\n",
    "# Organizing collection of data\n",
    "Lists are used to store ordered items, which allows duplicate elements.\n",
    "\n",
    "Sets can be used when we need unordered, unique items only."
   ]
  },
  {
   "cell_type": "code",
   "execution_count": 24,
   "id": "721f67da",
   "metadata": {},
   "outputs": [
    {
     "name": "stdout",
     "output_type": "stream",
     "text": [
      "Employee list: ['John Smith', 'Mary Johnson', 'Bob Wilson']\n",
      "Daily temperatures: [68.5, 72.1, 69.8, 71.2]\n",
      "Departments: {'Manufacturing', 'HR', 'Sales'}\n"
     ]
    }
   ],
   "source": [
    "\n",
    "# --- Lists and Sets: organizing data ---\n",
    "employee_names = [\"John Smith\", \"Mary Johnson\", \"Bob Wilson\"]\n",
    "print(\"Employee list:\", employee_names)\n",
    "\n",
    "daily_temperatures = [68.5, 72.1, 69.8, 71.2]\n",
    "print(\"Daily temperatures:\", daily_temperatures)\n",
    "\n",
    "departments = {\"Manufacturing\", \"Sales\", \"HR\", \"Manufacturing\"}\n",
    "print(\"Departments:\", departments)  # duplicates removed\n"
   ]
  },
  {
   "cell_type": "markdown",
   "id": "0599dc0d",
   "metadata": {},
   "source": [
    "## ThoughtBytesChallenge\n",
    " ###  Challenge: define a rose with data types <br/>\n",
    " The red of a rose becomes numbers (RGB values),  <br/>\n",
    " its petals become measurements,  <br/>\n",
    " bloom status becomes a boolean,  <br/>\n",
    " memories and feelings stored as strings and collections."
   ]
  },
  {
   "cell_type": "code",
   "execution_count": 25,
   "id": "ca8946ef",
   "metadata": {},
   "outputs": [
    {
     "name": "stdout",
     "output_type": "stream",
     "text": [
      "\n",
      "--- Digital Rose Representation ---\n",
      "Rose color (RGB): (255, 0, 0)\n",
      "Petals: 32 petals, 4.5 cm each\n",
      "Blooming: True\n",
      "Memory: Summer garden afternoon\n",
      "Shared experiences: ['song of birds', 'laughter of loved ones', 'warm sunshine']\n"
     ]
    }
   ],
   "source": [
    "# --- A Digital Rose: Combining Data Types ---\n",
    "rose_color_rgb = (255, 0, 0)       # pure red in RGB (tuple)\n",
    "petal_count = 32                   # integer\n",
    "petal_length_cm = 4.5              # float\n",
    "is_blooming = True                 # boolean\n",
    "memory = \"Summer garden afternoon\" # string\n",
    "shared_experiences = [\n",
    "    \"song of birds\",\n",
    "    \"laughter of loved ones\",\n",
    "    \"warm sunshine\"\n",
    "]                                   # list of strings\n",
    "\n",
    "print(\"\\n--- Digital Rose Representation ---\")\n",
    "print(f\"Rose color (RGB): {rose_color_rgb}\")\n",
    "print(f\"Petals: {petal_count} petals, {petal_length_cm} cm each\")\n",
    "print(f\"Blooming: {is_blooming}\")\n",
    "print(f\"Memory: {memory}\")\n",
    "print(\"Shared experiences:\", shared_experiences)\n"
   ]
  }
 ],
 "metadata": {
  "kernelspec": {
   "display_name": "qchem_env",
   "language": "python",
   "name": "python3"
  },
  "language_info": {
   "codemirror_mode": {
    "name": "ipython",
    "version": 3
   },
   "file_extension": ".py",
   "mimetype": "text/x-python",
   "name": "python",
   "nbconvert_exporter": "python",
   "pygments_lexer": "ipython3",
   "version": "3.11.13"
  }
 },
 "nbformat": 4,
 "nbformat_minor": 5
}
