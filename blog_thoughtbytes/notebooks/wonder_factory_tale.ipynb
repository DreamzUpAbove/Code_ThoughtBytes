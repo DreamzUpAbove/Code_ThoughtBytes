{
 "cells": [
  {
   "cell_type": "markdown",
   "id": "6d68286c",
   "metadata": {},
   "source": [
    "# A Wonder Factory's Tale\n",
    "----------------------------------------------\n",
    "\n",
    "This script tries to explain the difference between the common functional programming vs Object oriented approaches with an imaginary story and conversations"
   ]
  },
  {
   "cell_type": "markdown",
   "id": "0e2e8535",
   "metadata": {},
   "source": [
    "### A \"Sunshine\" Elementary Problem\n",
    "\n",
    "Mrs. Johnson, the principal, wants to manage students' information digitally. asking assistants for help"
   ]
  },
  {
   "cell_type": "code",
   "execution_count": 7,
   "id": "1e190011",
   "metadata": {},
   "outputs": [],
   "source": [
    "#initial approach to store student data using individual variables\n",
    "\n",
    "#Student 1 - John:\n",
    "john_name = \"John Smith\"\n",
    "john_age = 11\n",
    "john_math_score = 85\n",
    "john_science_score = 92\n",
    "john_english_score = 78\n",
    "john_history_score = 88\n",
    "\n",
    "#Student 2 - Sarah:\n",
    "sarah_name = \"Sarah Johnson\"\n",
    "sarah_age = 12\n",
    "sarah_math_score = 95\n",
    "sarah_science_score = 89\n",
    "sarah_english_score = 92\n",
    "sarah_history_score = 84"
   ]
  },
  {
   "cell_type": "code",
   "execution_count": 8,
   "id": "60716524",
   "metadata": {},
   "outputs": [
    {
     "name": "stdout",
     "output_type": "stream",
     "text": [
      "John Smith's average score is: 85.75\n",
      "Sarah Johnson's average score is: 90.0\n"
     ]
    }
   ],
   "source": [
    "# To calculate average score for John, we sum up his scores and divide by number of subjects\n",
    "john_average_score = (john_math_score + john_science_score + john_english_score + john_history_score) / 4\n",
    "print(f\"{john_name}'s average score is: {john_average_score}\")  \n",
    "#Output: John Smith average score is: 85.75 \n",
    "\n",
    "# Calculate average score for Sarah\n",
    "sarah_average_score = (sarah_math_score + sarah_science_score + sarah_english_score + sarah_history_score) / 4\n",
    "print(f\"{sarah_name}'s average score is: {sarah_average_score}\")  \n",
    "#Output: Sarah Johnson average score is: 90.0"
   ]
  },
  {
   "cell_type": "markdown",
   "id": "af9e381f",
   "metadata": {},
   "source": [
    "### This is a bad practice, as it will be difficult to add or remove a student. \n",
    "Also, this will reduce the readability of code and difficult to maintain later."
   ]
  },
  {
   "cell_type": "markdown",
   "id": "766e4fb5",
   "metadata": {},
   "source": [
    "using lists to manage students information"
   ]
  },
  {
   "cell_type": "code",
   "execution_count": 9,
   "id": "324524d5",
   "metadata": {},
   "outputs": [
    {
     "name": "stdout",
     "output_type": "stream",
     "text": [
      "John Average Score: 85.75\n",
      "Sarah Average Score: 90.0\n"
     ]
    }
   ],
   "source": [
    "students = [\n",
    "    [\"John Smith\", 18, 85, 92, 78, 88],\n",
    "    [\"Sarah Johnson\", 17, 95, 89, 92, 84]\n",
    "]\n",
    "def calculate_average_score(student):\n",
    "    total_score = sum(student[2:])  # Sum scores from index 2 to end\n",
    "    average_score = total_score / (len(student) - 2)  # Divide by number of subjects\n",
    "    return average_score\n",
    "\n",
    "john_average_score = calculate_average_score(students[0])  # For John\n",
    "#Output: 85.75\n",
    "print(\"John Average Score:\", john_average_score )\n",
    "sarah_average_score = calculate_average_score(students[1])  # For Sarah\n",
    "#Output: 90.5   \n",
    "print(\"Sarah Average Score:\", sarah_average_score )\n"
   ]
  },
  {
   "cell_type": "markdown",
   "id": "1fe47000",
   "metadata": {},
   "source": [
    "#### But if we need to add new subject or new student, we need to change the code in multiple places which leads to errors and it will be difficult to test\n"
   ]
  },
  {
   "cell_type": "markdown",
   "id": "469b0852",
   "metadata": {},
   "source": [
    "### Solution to the problem"
   ]
  },
  {
   "cell_type": "code",
   "execution_count": 10,
   "id": "fed23170",
   "metadata": {},
   "outputs": [
    {
     "name": "stdout",
     "output_type": "stream",
     "text": [
      "Name: John Smith, Age: 11\n",
      " Mathematics :  85\n",
      " Science :  92\n",
      " English :  78\n",
      " History :  88\n",
      "Average: 85.75\n",
      "Name: Sarah Johnson, Age: 12\n",
      " Mathematics :  95\n",
      " Science :  87\n",
      " English :  91\n",
      " History :  89\n",
      "Average: 90.50\n"
     ]
    }
   ],
   "source": [
    "class Student:\n",
    "    \"\"\"\n",
    "    A Student class that encapsulates all student data and organise well \"\"\"\n",
    "    def __init__(self, name, age):\n",
    "        # specific variables (unique to each student)\n",
    "        self.name = name\n",
    "        self.age = age\n",
    "        self.scores = {\n",
    "            \"science\": 0,\n",
    "            \"math\": 0,\n",
    "            \"english\": 0,\n",
    "            \"history\": 0\n",
    "        }\n",
    "        \n",
    "    def add_subject_score(self, subject, score):\n",
    "        \"\"\"Add or update a subject score\"\"\"\n",
    "        if subject not in self.scores:\n",
    "            raise ValueError(f\"No matching subject found: {subject}\")\n",
    "        if not (0 <= score <= 100):\n",
    "            raise ValueError(f\"Score must be between 0-100, got {score}\")\n",
    "        self.scores[subject] = score\n",
    "\n",
    "    def calculate_average(self):\n",
    "        \"\"\"Method to calculate average score\"\"\"\n",
    "        return sum(self.scores.values()) / len(self.scores)\n",
    "\n",
    "    def display_report(self):\n",
    "        \"\"\"Method to display student report\"\"\"\n",
    "        print(f\"Name: {self.name}, Age: {self.age}\")\n",
    "        print(f\" Mathematics :  {self.scores['math']}\")\n",
    "        print(f\" Science :  {self.scores['science']}\")        \n",
    "        print(f\" English :  {self.scores['english']}\")        \n",
    "        print(f\" History :  {self.scores['history']}\")\n",
    "        print(f\"Average: {self.calculate_average():.2f}\")\n",
    "\n",
    "# Creating student objects - much cleaner!\n",
    "john = Student(\"John Smith\", 11)\n",
    "sarah = Student(\"Sarah Johnson\", 12) \n",
    "# Adding scores - organized and safe\n",
    "john.add_subject_score(\"math\", 85)\n",
    "john.add_subject_score(\"science\", 92)\n",
    "john.add_subject_score(\"english\", 78)\n",
    "john.add_subject_score(\"history\", 88)\n",
    "sarah.add_subject_score(\"math\", 95)\n",
    "sarah.add_subject_score(\"science\", 87)\n",
    "sarah.add_subject_score(\"english\", 91)\n",
    "sarah.add_subject_score(\"history\", 89)\n",
    "# Display reports - one line per student!\n",
    "john.display_report()\n",
    "sarah.display_report()"
   ]
  },
  {
   "cell_type": "markdown",
   "id": "bb003795",
   "metadata": {},
   "source": [
    "#### We made a new structure that is like a modern factory which produces students with the same characteristics, but different values for each student."
   ]
  },
  {
   "cell_type": "markdown",
   "id": "324ef3d9",
   "metadata": {},
   "source": [
    "## ThoughtBytesChallenge\n",
    " ###  Challenge: Employee Management System<br/>\n",
    " The system processes the employee ID, employee name, department, date of birth,  <br/>\n",
    " from this data calculates their age and 10% bonus amount  <br/>\n",
    " Change --> requirement change, each employee needs a designiation <br/>"
   ]
  },
  {
   "cell_type": "code",
   "execution_count": 11,
   "id": "e7f45aba",
   "metadata": {},
   "outputs": [
    {
     "name": "stdout",
     "output_type": "stream",
     "text": [
      "EMPLOYEE MANAGEMENT SYSTEM\n",
      "========================================\n",
      "ID: E001\n",
      "Name: John Smith\n",
      "Department: IT\n",
      "Date of Birth: 1990-05-15\n",
      "Age: 35\n",
      "Salary: $75000\n",
      "Bonus (10%): $7500.00\n",
      "------------------------------\n",
      "ID: E002\n",
      "Name: Sarah Johnson\n",
      "Department: HR\n",
      "Date of Birth: 1985-12-10\n",
      "Age: 39\n",
      "Salary: $65000\n",
      "Bonus (10%): $6500.00\n",
      "------------------------------\n",
      "ID: E003\n",
      "Name: Mike Wilson\n",
      "Department: Finance\n",
      "Date of Birth: 1992-03-22\n",
      "Age: 33\n",
      "Salary: $55000\n",
      "Bonus (10%): $5500.00\n",
      "------------------------------\n"
     ]
    }
   ],
   "source": [
    "from datetime import datetime\n",
    "\n",
    "class Employee:\n",
    "    def __init__(self, emp_id, name, department, date_of_birth, salary):\n",
    "        self.emp_id = emp_id\n",
    "        self.name = name\n",
    "        self.department = department\n",
    "        self.date_of_birth = date_of_birth\n",
    "        self.salary = salary\n",
    "    \n",
    "    def calculate_age(self):\n",
    "        today = datetime.now()\n",
    "        birth_date = datetime.strptime(self.date_of_birth, \"%Y-%m-%d\")\n",
    "        age = today.year - birth_date.year\n",
    "        if today.month < birth_date.month or (today.month == birth_date.month and today.day < birth_date.day):\n",
    "            age -= 1\n",
    "        return age\n",
    "    \n",
    "    def calculate_bonus(self):\n",
    "        return self.salary * 0.10\n",
    "    \n",
    "    def display_info(self):\n",
    "        print(f\"ID: {self.emp_id}\")\n",
    "        print(f\"Name: {self.name}\")\n",
    "        print(f\"Department: {self.department}\")\n",
    "        print(f\"Date of Birth: {self.date_of_birth}\")\n",
    "        print(f\"Age: {self.calculate_age()}\")\n",
    "        print(f\"Salary: ${self.salary}\")\n",
    "        print(f\"Bonus (10%): ${self.calculate_bonus():.2f}\")\n",
    "        print(\"-\" * 30)\n",
    "\n",
    "# Example usage\n",
    "if __name__ == \"__main__\":\n",
    "    # Create employees\n",
    "    emp1 = Employee(\"E001\", \"John Smith\", \"IT\", \"1990-05-15\", 75000)\n",
    "    emp2 = Employee(\"E002\", \"Sarah Johnson\", \"HR\", \"1985-12-10\", 65000)\n",
    "    emp3 = Employee(\"E003\", \"Mike Wilson\", \"Finance\", \"1992-03-22\", 55000)\n",
    "    \n",
    "    # Display employee information\n",
    "    employees = [emp1, emp2, emp3]\n",
    "    \n",
    "    print(\"EMPLOYEE MANAGEMENT SYSTEM\")\n",
    "    print(\"=\" * 40)\n",
    "    \n",
    "    for employee in employees:\n",
    "        employee.display_info()"
   ]
  },
  {
   "cell_type": "markdown",
   "id": "22a26833",
   "metadata": {},
   "source": [
    "##### Requirement change - add designation solution"
   ]
  },
  {
   "cell_type": "code",
   "execution_count": 12,
   "id": "05dd645a",
   "metadata": {},
   "outputs": [
    {
     "name": "stdout",
     "output_type": "stream",
     "text": [
      "EMPLOYEE MANAGEMENT SYSTEM\n",
      "========================================\n",
      "ID: E001\n",
      "Name: John Smith\n",
      "Department: IT\n",
      "Designation: Software Developer\n",
      "Date of Birth: 1990-05-15\n",
      "Age: 35\n",
      "Salary: $75000\n",
      "Bonus (10%): $7500.00\n",
      "------------------------------\n",
      "ID: E002\n",
      "Name: Sarah Johnson\n",
      "Department: HR\n",
      "Designation: HR Manager\n",
      "Date of Birth: 1985-12-10\n",
      "Age: 39\n",
      "Salary: $65000\n",
      "Bonus (10%): $6500.00\n",
      "------------------------------\n",
      "ID: E003\n",
      "Name: Mike Wilson\n",
      "Department: Finance\n",
      "Designation: Accountant\n",
      "Date of Birth: 1992-03-22\n",
      "Age: 33\n",
      "Salary: $55000\n",
      "Bonus (10%): $5500.00\n",
      "------------------------------\n"
     ]
    }
   ],
   "source": [
    "from datetime import datetime\n",
    "\n",
    "class Employee:\n",
    "    def __init__(self, emp_id, name, department, date_of_birth, designation, salary):\n",
    "        self.emp_id = emp_id\n",
    "        self.name = name\n",
    "        self.department = department\n",
    "        self.date_of_birth = date_of_birth\n",
    "        self.designation = designation\n",
    "        self.salary = salary\n",
    "    \n",
    "    def calculate_age(self):\n",
    "        today = datetime.now()\n",
    "        birth_date = datetime.strptime(self.date_of_birth, \"%Y-%m-%d\")\n",
    "        age = today.year - birth_date.year\n",
    "        if today.month < birth_date.month or (today.month == birth_date.month and today.day < birth_date.day):\n",
    "            age -= 1\n",
    "        return age\n",
    "    \n",
    "    def calculate_bonus(self):\n",
    "        return self.salary * 0.10\n",
    "    \n",
    "    def display_info(self):\n",
    "        print(f\"ID: {self.emp_id}\")\n",
    "        print(f\"Name: {self.name}\")\n",
    "        print(f\"Department: {self.department}\")\n",
    "        print(f\"Designation: {self.designation}\")\n",
    "        print(f\"Date of Birth: {self.date_of_birth}\")\n",
    "        print(f\"Age: {self.calculate_age()}\")\n",
    "        print(f\"Salary: ${self.salary}\")\n",
    "        print(f\"Bonus (10%): ${self.calculate_bonus():.2f}\")\n",
    "        print(\"-\" * 30)\n",
    "\n",
    "# Example usage\n",
    "if __name__ == \"__main__\":\n",
    "    # Create employees\n",
    "    emp1 = Employee(\"E001\", \"John Smith\", \"IT\", \"1990-05-15\", \"Software Developer\", 75000)\n",
    "    emp2 = Employee(\"E002\", \"Sarah Johnson\", \"HR\", \"1985-12-10\", \"HR Manager\", 65000)\n",
    "    emp3 = Employee(\"E003\", \"Mike Wilson\", \"Finance\", \"1992-03-22\", \"Accountant\", 55000)\n",
    "    \n",
    "    # Display employee information\n",
    "    employees = [emp1, emp2, emp3]\n",
    "    \n",
    "    print(\"EMPLOYEE MANAGEMENT SYSTEM\")\n",
    "    print(\"=\" * 40)\n",
    "    \n",
    "    for employee in employees:\n",
    "        employee.display_info()"
   ]
  }
 ],
 "metadata": {
  "kernelspec": {
   "display_name": "Python 3",
   "language": "python",
   "name": "python3"
  },
  "language_info": {
   "codemirror_mode": {
    "name": "ipython",
    "version": 3
   },
   "file_extension": ".py",
   "mimetype": "text/x-python",
   "name": "python",
   "nbconvert_exporter": "python",
   "pygments_lexer": "ipython3",
   "version": "3.12.1"
  }
 },
 "nbformat": 4,
 "nbformat_minor": 5
}
