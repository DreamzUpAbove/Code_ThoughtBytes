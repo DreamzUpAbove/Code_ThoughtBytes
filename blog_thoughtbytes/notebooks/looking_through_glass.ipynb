{
 "cells": [
  {
   "cell_type": "markdown",
   "id": "5621c9f5",
   "metadata": {},
   "source": [
    "# Looking Through the Magnifying Glass"
   ]
  },
  {
   "cell_type": "markdown",
   "id": "0572d297",
   "metadata": {},
   "source": [
    "This script tries to explain the standard Object Oriented Concepts like Class, Objects, Encapsulation in a simple and easier manner"
   ]
  },
  {
   "cell_type": "markdown",
   "id": "76e481a4",
   "metadata": {},
   "source": [
    "### A \"Sunshine\" Elementary Problem continued...\n",
    "\n",
    "Assistant Mary explains about the concepts of Class and objects."
   ]
  },
  {
   "cell_type": "code",
   "execution_count": 12,
   "id": "32a04ced",
   "metadata": {},
   "outputs": [
    {
     "name": "stdout",
     "output_type": "stream",
     "text": [
      "Initial user balance: 100\n",
      "Ann deposited 50\n",
      "User balance after deposit: 150\n",
      "Ann withdrew 80\n",
      "User balance after withdrawal: 70\n"
     ]
    }
   ],
   "source": [
    "#A Simple sample code for a Bank account \n",
    "class BankAccount:\n",
    "    \"\"\"A simple class to manage a bank account.\"\"\"\n",
    "    def __init__(self, owner, balance=0): # A special method known as initializer. \n",
    "        # Knows its owner and balance\n",
    "        self.__owner = owner\n",
    "        self.__balance = balance\n",
    "\n",
    "    #Actions can be performed: deposit, withdraw, get_balance\n",
    "    def deposit(self, amount):\n",
    "        if amount <= 0:\n",
    "            print(f\"Error: Deposit amount must be positive, got {amount}\")\n",
    "            return False\n",
    "        self.__balance += amount\n",
    "        print(f\"{self.__owner} deposited {amount}\")\n",
    "\n",
    "    def withdraw(self, amount):\n",
    "        if amount <= 0:\n",
    "            print(f\"Error: Withdrawal amount must be positive\")\n",
    "            return False\n",
    "        if amount > self.__balance:\n",
    "            print(f\"Error: Insufficient funds. Balance: ${self.__balance}\")\n",
    "            return False\n",
    "        self.__balance -= amount\n",
    "        print(f\"{self.__owner} withdrew {amount}\")\n",
    "\n",
    "    def get_balance(self):\n",
    "        return self.__balance\n",
    "\n",
    "if __name__ == \"__main__\":\n",
    "    account = BankAccount(\"Ann\", 100)\n",
    "    print(f\"Initial user balance: {account.get_balance()}\")\n",
    "    account.deposit(50)\n",
    "    print(f\"User balance after deposit: {account.get_balance()}\")\n",
    "    account.withdraw(80)\n",
    "    print(f\"User balance after withdrawal: {account.get_balance()}\")\n"
   ]
  },
  {
   "cell_type": "markdown",
   "id": "98fe9706",
   "metadata": {},
   "source": [
    "## ThoughtBytesChallenge\n",
    " ###  Challenge: Shopping Cart Class<br/>\n",
    "   <br/>\n",
    "  - Need to store customer name, cart itemcount, TotalPrice, isEmpty and list of items in the cart. <br/>\n",
    "  - Need functions to initialise cart, add, remove item, get total amount, get item Count and option to checkout. \n"
   ]
  },
  {
   "cell_type": "code",
   "execution_count": null,
   "id": "851ef5cd",
   "metadata": {},
   "outputs": [
    {
     "name": "stdout",
     "output_type": "stream",
     "text": [
      "Added Apple ($1.5) to cart\n",
      "Added Banana ($0.75) to cart\n",
      "Added Orange ($1.25) to cart\n",
      "\n",
      "Current total: $3.50\n",
      "Item count: 3\n",
      "Removed Banana from cart\n",
      "\n",
      "--- Checkout for John ---\n",
      "Items: Apple, Orange\n",
      "Total: $2.75\n",
      "Thank you for your purchase!\n"
     ]
    }
   ],
   "source": [
    "#A Simple sample code for Shopping cart\n",
    "class ShoppingCart:\n",
    "    def __init__(self, customer):\n",
    "        self.customer = customer\n",
    "        self.items = []\n",
    "        self.count = 0\n",
    "        self.totalPrice = 0.0\n",
    "        self.isEmpty = True\n",
    "    \n",
    "    def add_item(self, item_name, price):\n",
    "        if price <= 0:\n",
    "            print(f\"Error: Price must be positive\")\n",
    "            return False\n",
    "        self.items.append(item_name)\n",
    "        self.count += 1\n",
    "        self.totalPrice += price\n",
    "        self.isEmpty = False\n",
    "        print(f\"Added {item_name} (${price}) to cart\")\n",
    "    \n",
    "    def remove_item(self, item_name, price):\n",
    "        if price <= 0:\n",
    "            print(f\"Error: Price must be positive\")\n",
    "            return False\n",
    "        if item_name in self.items:\n",
    "            self.items.remove(item_name)\n",
    "            self.count -= 1\n",
    "            self.totalPrice -= price\n",
    "            if self.count == 0:\n",
    "                self.isEmpty = True\n",
    "            print(f\"Removed {item_name} from cart\")\n",
    "        else:\n",
    "            print(f\"{item_name} not found in cart\")\n",
    "    \n",
    "    def get_total(self):\n",
    "        return self.totalPrice\n",
    "    \n",
    "    def checkout(self):\n",
    "        print(f\"\\n--- Checkout for {self.customer} ---\")\n",
    "        print(f\"Items: {', '.join(self.items)}\")\n",
    "        print(f\"Total: ${self.totalPrice:.2f}\")\n",
    "        print(\"Thank you for your purchase!\")\n",
    "    \n",
    "    def get_count(self):\n",
    "        return self.count\n",
    "\n",
    "\n",
    "# Example usage\n",
    "if __name__ == \"__main__\":\n",
    "    cart = ShoppingCart(\"John\")\n",
    "    \n",
    "    cart.add_item(\"Apple\", 1.50)\n",
    "    cart.add_item(\"Banana\", 0.75)\n",
    "    cart.add_item(\"Orange\", 1.25)\n",
    "    \n",
    "    print(f\"\\nCurrent total: ${cart.get_total():.2f}\")\n",
    "    print(f\"Item count: {cart.get_count()}\")\n",
    "    \n",
    "    cart.remove_item(\"Banana\", 0.75)\n",
    "    \n",
    "    cart.checkout()"
   ]
  }
 ],
 "metadata": {
  "kernelspec": {
   "display_name": "Python 3",
   "language": "python",
   "name": "python3"
  },
  "language_info": {
   "codemirror_mode": {
    "name": "ipython",
    "version": 3
   },
   "file_extension": ".py",
   "mimetype": "text/x-python",
   "name": "python",
   "nbconvert_exporter": "python",
   "pygments_lexer": "ipython3",
   "version": "3.12.1"
  }
 },
 "nbformat": 4,
 "nbformat_minor": 5
}
